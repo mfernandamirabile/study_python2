{
 "cells": [
  {
   "cell_type": "markdown",
   "metadata": {},
   "source": [
    "# Clínica - teste de Glicose"
   ]
  },
  {
   "cell_type": "markdown",
   "metadata": {},
   "source": [
    "Uma clínica analisa dados de pacientes e armazena o valor numérico da glicose em um banco de dados e gostaria de rotular os dados da seguinte maneira:\n",
    "\n",
    "Glicose igual ou inferior a 70: 'Hipoglicemia'\n",
    "Glicose entre 70 a 99: 'Normal'\n",
    "Glicose entre 100 e 125: 'Alterada'\n",
    "Glicose superior a 125: 'Diabetes'"
   ]
  },
  {
   "cell_type": "code",
   "execution_count": 3,
   "metadata": {},
   "outputs": [],
   "source": [
    "glicemia = [129, 82, 60, 97, 101, 65, 62, 167, 87, 53, 58, 92, 66, 120, 109, 62, 86, 96, 103, \n",
    "            88, 155, 52, 89, 73]"
   ]
  },
  {
   "cell_type": "code",
   "execution_count": 15,
   "metadata": {},
   "outputs": [
    {
     "data": {
      "text/plain": [
       "[('Diabetes', 129),\n",
       " ('Normal', 82),\n",
       " ('Hipoglicemia', 60),\n",
       " ('Normal', 97),\n",
       " ('Alterada', 101),\n",
       " ('Hipoglicemia', 65),\n",
       " ('Hipoglicemia', 62),\n",
       " ('Diabetes', 167),\n",
       " ('Normal', 87),\n",
       " ('Hipoglicemia', 53),\n",
       " ('Hipoglicemia', 58),\n",
       " ('Normal', 92),\n",
       " ('Hipoglicemia', 66),\n",
       " ('Alterada', 120),\n",
       " ('Alterada', 109),\n",
       " ('Hipoglicemia', 62),\n",
       " ('Normal', 86),\n",
       " ('Normal', 96),\n",
       " ('Alterada', 103),\n",
       " ('Normal', 88),\n",
       " ('Diabetes', 155),\n",
       " ('Hipoglicemia', 52),\n",
       " ('Normal', 89),\n",
       " ('Normal', 73)]"
      ]
     },
     "execution_count": 15,
     "metadata": {},
     "output_type": "execute_result"
    }
   ],
   "source": [
    "resultado_glic =[('Hipoglicemia', i) if i <= 70 else ('Normal', i) if i > 70 and i <= 100 else ('Alterada', i) if i > 100 and i <= 125 else ('Diabetes', i) for i in glicemia]\n",
    "\n",
    "resultado_glic"
   ]
  }
 ],
 "metadata": {
  "kernelspec": {
   "display_name": "Python 3",
   "language": "python",
   "name": "python3"
  },
  "language_info": {
   "codemirror_mode": {
    "name": "ipython",
    "version": 3
   },
   "file_extension": ".py",
   "mimetype": "text/x-python",
   "name": "python",
   "nbconvert_exporter": "python",
   "pygments_lexer": "ipython3",
   "version": "3.11.4"
  },
  "orig_nbformat": 4
 },
 "nbformat": 4,
 "nbformat_minor": 2
}
