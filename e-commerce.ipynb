{
 "cells": [
  {
   "cell_type": "markdown",
   "metadata": {},
   "source": [
    "# E-COMMERCE ALTERNATIVA 1"
   ]
  },
  {
   "cell_type": "markdown",
   "metadata": {},
   "source": [
    "O e-commerce precisa estruturar esses dados em uma tabela contendo o valor total da venda, que é obtida multiplicando a quantidade pelo preço unitário. Além disso, a tabela precisa conter um cabeçalho indicando as colunas: 'id', 'quantidade', 'preco' e 'total'."
   ]
  },
  {
   "cell_type": "code",
   "execution_count": 1,
   "metadata": {},
   "outputs": [],
   "source": [
    "id = [0, 1, 2, 3, 4, 5, 6, 7, 8, 9]\n",
    "quantidade = [15, 12, 1, 15, 2, 11, 2, 12, 2, 4]\n",
    "preco = [93.0, 102.0, 18.0, 41.0, 122.0, 14.0, 71.0, 48.0, 14.0, 144.0]"
   ]
  },
  {
   "cell_type": "code",
   "execution_count": 15,
   "metadata": {},
   "outputs": [
    {
     "data": {
      "text/plain": [
       "{'id': [0, 1, 2, 3, 4, 5, 6, 7, 8, 9],\n",
       " 'quantidade': [15, 12, 1, 15, 2, 11, 2, 12, 2, 4],\n",
       " 'preço': [93.0, 102.0, 18.0, 41.0, 122.0, 14.0, 71.0, 48.0, 14.0, 144.0],\n",
       " 'total': [(1395.0,\n",
       "   1224.0,\n",
       "   18.0,\n",
       "   615.0,\n",
       "   244.0,\n",
       "   154.0,\n",
       "   142.0,\n",
       "   576.0,\n",
       "   28.0,\n",
       "   576.0)]}"
      ]
     },
     "execution_count": 15,
     "metadata": {},
     "output_type": "execute_result"
    }
   ],
   "source": [
    "total = [tuple(i[0] * i[1] for i in list(zip(quantidade, preco)))]\n",
    "tabela = {'id':id, 'quantidade':quantidade, 'preço':preco, 'total':total}\n",
    "tabela\n"
   ]
  }
 ],
 "metadata": {
  "kernelspec": {
   "display_name": "venv_study_python2",
   "language": "python",
   "name": "python3"
  },
  "language_info": {
   "codemirror_mode": {
    "name": "ipython",
    "version": 3
   },
   "file_extension": ".py",
   "mimetype": "text/x-python",
   "name": "python",
   "nbconvert_exporter": "python",
   "pygments_lexer": "ipython3",
   "version": "3.11.4"
  },
  "orig_nbformat": 4
 },
 "nbformat": 4,
 "nbformat_minor": 2
}
